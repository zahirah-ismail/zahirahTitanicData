{
 "cells": [
  {
   "cell_type": "code",
   "execution_count": null,
   "metadata": {},
   "outputs": [],
   "source": [
    "# this program will receive heights and weight of people and calculate \n",
    "#the BMI or each individual as well as mean , median ,std and correlations\n",
    "\n",
    "import math\n",
    "import numpy as np\n",
    "\n",
    "height = np.round(np.random.normal (1075 , 0.20 , 5000),2)\n",
    "weight = np.round(np.random.normal (60.32 , 15 , 5000),2)\n",
    "np_city = np.column_stack((height ,weight))\n",
    "\n",
    "#average height\n",
    "avgHeight = np.mean(np_city[:,0])\n",
    "print(\"The average height in this city is : \" + str(avgHeight))\n",
    "\n",
    "# median height\n",
    "medHeight = np.median(np_city[:,0])\n",
    "print(\"The median height in this city is : \" + str(medHeight))\n",
    "\n",
    "# average weight\n",
    "avgWeight = np.mean(np_city[:,1])\n",
    "print(\"The average Weight in this city is : \" + str(avgWeight))\n",
    "\n",
    "\n",
    "# median Weight\n",
    "medWeight = np.median(np_city[:,1])\n",
    "print(\"The median Weight in this city is : \" + str(medWeight))\n",
    "\n",
    "# correlation\n",
    "corrCity = np.corrcoef(np_city[:,0] , np_city[:,1])\n",
    "print(\"correlation of city\" + str(corr))\n",
    "\n",
    "#standard deviation of height and weight\n",
    "\n",
    "stdHeight = np.std(np_city[:,0])\n",
    "stdWeight = np.std(np_city[:,1])\n",
    "print(\"standard deviation of height :\" + str(stdHeight))\n",
    "print(\"standard deviation of weight :\" + str(stdWeight))\n",
    "\n"
   ]
  },
  {
   "cell_type": "code",
   "execution_count": null,
   "metadata": {},
   "outputs": [],
   "source": []
  }
 ],
 "metadata": {
  "kernelspec": {
   "display_name": "Python 3",
   "language": "python",
   "name": "python3"
  },
  "language_info": {
   "codemirror_mode": {
    "name": "ipython",
    "version": 3
   },
   "file_extension": ".py",
   "mimetype": "text/x-python",
   "name": "python",
   "nbconvert_exporter": "python",
   "pygments_lexer": "ipython3",
   "version": "3.6.4"
  }
 },
 "nbformat": 4,
 "nbformat_minor": 2
}
